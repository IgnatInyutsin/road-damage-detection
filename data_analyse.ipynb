{
  "nbformat": 4,
  "nbformat_minor": 0,
  "metadata": {
    "colab": {
      "provenance": [],
      "mount_file_id": "1nMbDsTs7FNeYuF7Lhx9VNBxPOJ3Z-r5H",
      "authorship_tag": "ABX9TyPbovQO+drajd3OJdNMPkrb",
      "include_colab_link": true
    },
    "kernelspec": {
      "name": "python3",
      "display_name": "Python 3"
    },
    "language_info": {
      "name": "python"
    }
  },
  "cells": [
    {
      "cell_type": "markdown",
      "metadata": {
        "id": "view-in-github",
        "colab_type": "text"
      },
      "source": [
        "<a href=\"https://colab.research.google.com/github/IgnatInyutsin/road-damage-detection/blob/main/data_analyse.ipynb\" target=\"_parent\"><img src=\"https://colab.research.google.com/assets/colab-badge.svg\" alt=\"Open In Colab\"/></a>"
      ]
    },
    {
      "cell_type": "markdown",
      "source": [
        "# Обнуление данных"
      ],
      "metadata": {
        "id": "mW81N0kwaTg0"
      }
    },
    {
      "cell_type": "code",
      "source": [
        "negative_count = 0\n",
        "sad_positive_count = 0\n",
        "positive_positive_count = 0"
      ],
      "metadata": {
        "id": "gOgxPqoyaYpI"
      },
      "execution_count": 10,
      "outputs": []
    },
    {
      "cell_type": "markdown",
      "source": [
        "# Анализ Dataset 1 (Simplex)"
      ],
      "metadata": {
        "id": "vvvIhH8TXV2R"
      }
    },
    {
      "cell_type": "code",
      "execution_count": null,
      "metadata": {
        "id": "jcbtvYxvWO-8"
      },
      "outputs": [],
      "source": [
        "import os\n",
        "from pathlib import Path\n",
        "import cv2\n",
        "\n",
        "PATH = \"/content/drive/MyDrive/Potholes Dataset/Dataset 1 (Simplex)/\"\n",
        "os.chdir(PATH)\n",
        "\n",
        "# считаем количество негативных данных\n",
        "folder = Path(\"Train data/Negative data/\")\n",
        "negative_count += len(list(folder.rglob(\"*\")))\n",
        "\n",
        "# \n",
        "with open(\"simpleTestFullSizeAllPotholesSortedFullAnnotation.txt\") as file:\n",
        "  # парсим файл\n",
        "  line = file.readline()\n",
        "\n",
        "  while line:\n",
        "    line = line.split()\n",
        "    path = \"\"\n",
        "    i = 0\n",
        "\n",
        "    # получаем путь до файла\n",
        "    while not line[i].isnumeric():\n",
        "      path += line[i] + \" \"\n",
        "      i += 1\n",
        "\n",
        "    path = path[:-1].replace(\"\\\\\", \"/\").replace(\".bmp\", \".JPG\")\n",
        "    # вычисляем площадь изображения\n",
        "    img_square = 10156800\n",
        "    # вычисляем минимальную площадь квадратика\n",
        "    min_hole_square = img_square\n",
        "    \n",
        "    i += 1\n",
        "    while i < len(line):\n",
        "      min_hole_square = min(min_hole_square, int(line[i+2])*int(line[i+3]))\n",
        "      i += 4\n",
        "\n",
        "    # узнаем коэффициент различия\n",
        "    k = img_square//min_hole_square\n",
        "\n",
        "    if k > 500:\n",
        "      sad_positive_count += 1\n",
        "    else:\n",
        "      positive_positive_count += 1\n",
        "\n",
        "    line = file.readline()\n",
        "\n",
        "# процентное соотношение после проверки первого датасета\n",
        "print(negative_count*100/(negative_count+sad_positive_count+positive_positive_count),\n",
        "      sad_positive_count*100/(negative_count+sad_positive_count+positive_positive_count),\n",
        "      positive_positive_count*100/(negative_count+sad_positive_count+positive_positive_count),)"
      ]
    },
    {
      "cell_type": "markdown",
      "source": [
        "**Соотношение после первого датасета**\n",
        "- 84% - нет повреждений\n",
        "- 15.5% - есть малоразличимые повреждения\n",
        "- 0.5% - повреждения хорошо различимы"
      ],
      "metadata": {
        "id": "c4jVu3P0iKnj"
      }
    },
    {
      "cell_type": "markdown",
      "source": [
        "# Анализ Dataset 2 (Complex)"
      ],
      "metadata": {
        "id": "jOZO6qoBhRhf"
      }
    },
    {
      "cell_type": "code",
      "source": [
        "import os\n",
        "from pathlib import Path\n",
        "import cv2\n",
        "\n",
        "PATH = \"/content/drive/MyDrive/Potholes Dataset/Dataset 2 (Complex)/\"\n",
        "os.chdir(PATH)\n",
        "\n",
        "# считаем количество негативных данных\n",
        "folder = Path(\"Train data/Negative data/\")\n",
        "negative_count += len(list(folder.rglob(\"*\")))\n",
        "\n",
        "# \n",
        "with open(\"complexTrainFullSizeAllPotholes.txt\") as file:\n",
        "  # парсим файл\n",
        "  line = file.readline()\n",
        "\n",
        "  while line:\n",
        "    line = line.split()\n",
        "    path = \"\"\n",
        "    i = 0\n",
        "\n",
        "    # получаем путь до файла\n",
        "    while not line[i].isnumeric():\n",
        "      path += line[i] + \" \"\n",
        "      i += 1\n",
        "\n",
        "    path = path[:-1].replace(\"\\\\\", \"/\").replace(\".bmp\", \".JPG\")\n",
        "    # вычисляем площадь изображения\n",
        "    img_square = 10156800\n",
        "    # вычисляем минимальную площадь квадратика\n",
        "    min_hole_square = img_square\n",
        "    \n",
        "    i += 1\n",
        "    while i < len(line):\n",
        "      min_hole_square = min(min_hole_square, int(line[i+2])*int(line[i+3]))\n",
        "      i += 4\n",
        "\n",
        "    # узнаем коэффициент различия\n",
        "    k = img_square//min_hole_square\n",
        "\n",
        "    if k > 500:\n",
        "      sad_positive_count += 1\n",
        "    else:\n",
        "      positive_positive_count += 1\n",
        "\n",
        "    line = file.readline()\n",
        "\n",
        "# процентное соотношение после проверки двух датасетов\n",
        "print(negative_count*100/(negative_count+sad_positive_count+positive_positive_count),\n",
        "      sad_positive_count*100/(negative_count+sad_positive_count+positive_positive_count),\n",
        "      positive_positive_count*100/(negative_count+sad_positive_count+positive_positive_count),)"
      ],
      "metadata": {
        "id": "pOmjnkREhdCT"
      },
      "execution_count": null,
      "outputs": []
    },
    {
      "cell_type": "markdown",
      "source": [
        "**Соотношение после второго датасета**\n",
        "- 83% - нет повреждений\n",
        "- 16.5% - есть малоразличимые повреждения\n",
        "- 0.5% - повреждения хорошо различимы"
      ],
      "metadata": {
        "id": "kFA_uBURiu4M"
      }
    },
    {
      "cell_type": "markdown",
      "source": [
        "# Анализ Subset 1 (Simplex)"
      ],
      "metadata": {
        "id": "nB7Z4ADii4qk"
      }
    },
    {
      "cell_type": "code",
      "source": [
        "import os\n",
        "from pathlib import Path\n",
        "import cv2\n",
        "\n",
        "PATH = \"/content/drive/MyDrive/Potholes Dataset/Subset 1 (Simplex)/\"\n",
        "os.chdir(PATH)\n",
        "\n",
        "# считаем количество негативных данных\n",
        "folder = Path(\"Train data/Negative data/\")\n",
        "negative_count += len(list(folder.rglob(\"*\")))\n",
        "\n",
        "# \n",
        "with open(\"simpleTrainFullPhotosSortedFullAnnotations.txt\") as file:\n",
        "  # парсим файл\n",
        "  line = file.readline()\n",
        "\n",
        "  while line:\n",
        "    line = line.split()\n",
        "    path = \"\"\n",
        "    i = 0\n",
        "\n",
        "    # получаем путь до файла\n",
        "    while not line[i].isnumeric():\n",
        "      path += line[i] + \" \"\n",
        "      i += 1\n",
        "\n",
        "    path = path[:-1].replace(\"\\\\\", \"/\").replace(\".bmp\", \".JPG\")\n",
        "    # вычисляем площадь изображения\n",
        "    img_square = 10156800\n",
        "    # вычисляем минимальную площадь квадратика\n",
        "    min_hole_square = img_square\n",
        "    \n",
        "    i += 1\n",
        "    while i < len(line):\n",
        "      min_hole_square = min(min_hole_square, int(line[i+2])*int(line[i+3]))\n",
        "      i += 4\n",
        "\n",
        "    # узнаем коэффициент различия\n",
        "    k = img_square//min_hole_square\n",
        "\n",
        "    if k > 500:\n",
        "      sad_positive_count += 1\n",
        "    else:\n",
        "      positive_positive_count += 1\n",
        "\n",
        "    line = file.readline()\n",
        "\n",
        "# процентное соотношение после проверки двух датасетов\n",
        "print(negative_count*100/(negative_count+sad_positive_count+positive_positive_count),\n",
        "      sad_positive_count*100/(negative_count+sad_positive_count+positive_positive_count),\n",
        "      positive_positive_count*100/(negative_count+sad_positive_count+positive_positive_count),)"
      ],
      "metadata": {
        "id": "uQC4LmvijA1m"
      },
      "execution_count": null,
      "outputs": []
    },
    {
      "cell_type": "markdown",
      "source": [
        "**Соотношение после третьего датасета**\n",
        "- 72.6% - нет повреждений\n",
        "- 26.4% - есть малоразличимые повреждения\n",
        "- 1% - повреждения хорошо различимы"
      ],
      "metadata": {
        "id": "TMT6URiTjR2z"
      }
    },
    {
      "cell_type": "markdown",
      "source": [
        "# Анализ Subset 2 (Complex)"
      ],
      "metadata": {
        "id": "hLzqDD8Fjh7B"
      }
    },
    {
      "cell_type": "code",
      "source": [
        "import os\n",
        "from pathlib import Path\n",
        "import cv2\n",
        "\n",
        "PATH = \"/content/drive/MyDrive/Potholes Dataset/Subset 2 (Complex)/\"\n",
        "os.chdir(PATH)\n",
        "\n",
        "# считаем количество негативных данных\n",
        "folder = Path(\"Train data/Negative data/\")\n",
        "negative_count += len(list(folder.rglob(\"*\")))\n",
        "\n",
        "# \n",
        "with open(\"complexTrainFullSizeAllPotholes.txt\") as file:\n",
        "  # парсим файл\n",
        "  line = file.readline()\n",
        "\n",
        "  while line:\n",
        "    line = line.split()\n",
        "    path = \"\"\n",
        "    i = 0\n",
        "\n",
        "    # получаем путь до файла\n",
        "    while not line[i].isnumeric():\n",
        "      path += line[i] + \" \"\n",
        "      i += 1\n",
        "\n",
        "    path = path[:-1].replace(\"\\\\\", \"/\").replace(\".bmp\", \".JPG\")\n",
        "    # вычисляем площадь изображения\n",
        "    img_square = 10156800\n",
        "    # вычисляем минимальную площадь квадратика\n",
        "    min_hole_square = img_square\n",
        "    \n",
        "    i += 1\n",
        "    while i < len(line):\n",
        "      min_hole_square = min(min_hole_square, int(line[i+2])*int(line[i+3]))\n",
        "      i += 4\n",
        "\n",
        "    # узнаем коэффициент различия\n",
        "    k = img_square//min_hole_square\n",
        "\n",
        "    if k > 500:\n",
        "      sad_positive_count += 1\n",
        "    else:\n",
        "      positive_positive_count += 1\n",
        "\n",
        "    line = file.readline()\n",
        "\n",
        "# процентное соотношение после проверки двух датасетов\n",
        "print(negative_count*100/(negative_count+sad_positive_count+positive_positive_count),\n",
        "      sad_positive_count*100/(negative_count+sad_positive_count+positive_positive_count),\n",
        "      positive_positive_count*100/(negative_count+sad_positive_count+positive_positive_count),)"
      ],
      "metadata": {
        "id": "DdHLad-sjm8z"
      },
      "execution_count": null,
      "outputs": []
    },
    {
      "cell_type": "markdown",
      "source": [
        "**Соотношение после третьего датасета**\n",
        "- 66.2% - нет повреждений\n",
        "- 32.8% - есть малоразличимые повреждения\n",
        "- 1% - повреждения хорошо различимы"
      ],
      "metadata": {
        "id": "wsbvcj28j2es"
      }
    },
    {
      "cell_type": "markdown",
      "source": [
        "# Суммарное количество изображений"
      ],
      "metadata": {
        "id": "f8ymljnoj9sL"
      }
    },
    {
      "cell_type": "code",
      "source": [
        "print(negative_count + sad_positive_count + positive_positive_count)"
      ],
      "metadata": {
        "id": "nwNmADFvkDEu"
      },
      "execution_count": null,
      "outputs": []
    },
    {
      "cell_type": "markdown",
      "source": [
        "14497 изображений.\n",
        "**Итого**:\n",
        "- 9592 без повреждений\n",
        "- 4750 плохо различимы\n",
        "- 155 хорошо различимы"
      ],
      "metadata": {
        "id": "RcsF9R4XkCj3"
      }
    }
  ]
}